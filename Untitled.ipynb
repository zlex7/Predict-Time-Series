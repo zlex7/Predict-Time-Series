{
 "cells": [
  {
   "cell_type": "code",
   "execution_count": 2,
   "metadata": {},
   "outputs": [],
   "source": [
    "import requests\n",
    "contracts_url = 'https://www.politicalalertengine.com/api/contracts/all'\n",
    "\n",
    "r = requests.get(contracts_url)"
   ]
  },
  {
   "cell_type": "code",
   "execution_count": 3,
   "metadata": {},
   "outputs": [],
   "source": [
    "contracts = r.json()"
   ]
  },
  {
   "cell_type": "code",
   "execution_count": 5,
   "metadata": {},
   "outputs": [],
   "source": [
    "prices_url = 'https://www.politicalalertengine.com/api/analytics/dataByIds/%d'\n",
    "\n",
    "prices = requests.get(prices_url % 4390).json()"
   ]
  },
  {
   "cell_type": "code",
   "execution_count": 11,
   "metadata": {},
   "outputs": [],
   "source": [
    "import pandas as pd\n",
    "df = pd.DataFrame(prices)"
   ]
  },
  {
   "cell_type": "code",
   "execution_count": 13,
   "metadata": {},
   "outputs": [],
   "source": [
    "import numpy as np\n",
    "df['date'] = pd.to_datetime(df['date'])\n",
    "df['lastTradePrice'] = df['lastTradePrice'].astype(np.float64)"
   ]
  },
  {
   "cell_type": "code",
   "execution_count": 19,
   "metadata": {},
   "outputs": [],
   "source": [
    "c_df = pd.DataFrame(contracts)"
   ]
  },
  {
   "cell_type": "code",
   "execution_count": 24,
   "metadata": {},
   "outputs": [
    {
     "data": {
      "text/plain": [
       "Index(['id', 'predictItId', 'name', 'longName', 'shortName',\n",
       "       'latestTradePrice', 'status', 'bestYes', 'bestNo', 'lastClose',\n",
       "       'parentId', 'url', 'extraString', 'extraObj', 'extraBool1',\n",
       "       'extraBool2', 'extraText', 'extraInt', 'extraDec', 'createdAt',\n",
       "       'updatedAt'],\n",
       "      dtype='object')"
      ]
     },
     "execution_count": 24,
     "metadata": {},
     "output_type": "execute_result"
    }
   ],
   "source": [
    "c_df.columns"
   ]
  },
  {
   "cell_type": "code",
   "execution_count": 25,
   "metadata": {},
   "outputs": [
    {
     "data": {
      "text/html": [
       "<div>\n",
       "<style scoped>\n",
       "    .dataframe tbody tr th:only-of-type {\n",
       "        vertical-align: middle;\n",
       "    }\n",
       "\n",
       "    .dataframe tbody tr th {\n",
       "        vertical-align: top;\n",
       "    }\n",
       "\n",
       "    .dataframe thead th {\n",
       "        text-align: right;\n",
       "    }\n",
       "</style>\n",
       "<table border=\"1\" class=\"dataframe\">\n",
       "  <thead>\n",
       "    <tr style=\"text-align: right;\">\n",
       "      <th></th>\n",
       "      <th>id</th>\n",
       "      <th>predictItId</th>\n",
       "      <th>name</th>\n",
       "      <th>longName</th>\n",
       "      <th>shortName</th>\n",
       "      <th>latestTradePrice</th>\n",
       "      <th>status</th>\n",
       "      <th>bestYes</th>\n",
       "      <th>bestNo</th>\n",
       "      <th>lastClose</th>\n",
       "      <th>...</th>\n",
       "      <th>url</th>\n",
       "      <th>extraString</th>\n",
       "      <th>extraObj</th>\n",
       "      <th>extraBool1</th>\n",
       "      <th>extraBool2</th>\n",
       "      <th>extraText</th>\n",
       "      <th>extraInt</th>\n",
       "      <th>extraDec</th>\n",
       "      <th>createdAt</th>\n",
       "      <th>updatedAt</th>\n",
       "    </tr>\n",
       "  </thead>\n",
       "  <tbody>\n",
       "    <tr>\n",
       "      <th>5669</th>\n",
       "      <td>1</td>\n",
       "      <td>4390</td>\n",
       "      <td>Democratic</td>\n",
       "      <td>Will the Democratic Party win the White House ...</td>\n",
       "      <td>Democratic</td>\n",
       "      <td>87.0</td>\n",
       "      <td>None</td>\n",
       "      <td>87.0</td>\n",
       "      <td>86.0</td>\n",
       "      <td>87.0</td>\n",
       "      <td>...</td>\n",
       "      <td>https://www.predictit.org/markets/detail/2721/...</td>\n",
       "      <td>None</td>\n",
       "      <td>None</td>\n",
       "      <td>None</td>\n",
       "      <td>None</td>\n",
       "      <td>None</td>\n",
       "      <td>None</td>\n",
       "      <td>None</td>\n",
       "      <td>2019-06-01T16:11:40.756Z</td>\n",
       "      <td>2020-11-18T06:39:33.217Z</td>\n",
       "    </tr>\n",
       "  </tbody>\n",
       "</table>\n",
       "<p>1 rows × 21 columns</p>\n",
       "</div>"
      ],
      "text/plain": [
       "      id  predictItId        name  \\\n",
       "5669   1         4390  Democratic   \n",
       "\n",
       "                                               longName   shortName  \\\n",
       "5669  Will the Democratic Party win the White House ...  Democratic   \n",
       "\n",
       "      latestTradePrice status  bestYes  bestNo  lastClose  ...  \\\n",
       "5669              87.0   None     87.0    86.0       87.0  ...   \n",
       "\n",
       "                                                    url extraString extraObj  \\\n",
       "5669  https://www.predictit.org/markets/detail/2721/...        None     None   \n",
       "\n",
       "     extraBool1 extraBool2 extraText extraInt extraDec  \\\n",
       "5669       None       None      None     None     None   \n",
       "\n",
       "                     createdAt                 updatedAt  \n",
       "5669  2019-06-01T16:11:40.756Z  2020-11-18T06:39:33.217Z  \n",
       "\n",
       "[1 rows x 21 columns]"
      ]
     },
     "execution_count": 25,
     "metadata": {},
     "output_type": "execute_result"
    }
   ],
   "source": [
    "c_df[c_df['predictItId'] == 4390]"
   ]
  },
  {
   "cell_type": "code",
   "execution_count": null,
   "metadata": {},
   "outputs": [],
   "source": []
  },
  {
   "cell_type": "code",
   "execution_count": 17,
   "metadata": {},
   "outputs": [
    {
     "data": {
      "text/plain": [
       "[<matplotlib.lines.Line2D at 0x1193d4c90>]"
      ]
     },
     "execution_count": 17,
     "metadata": {},
     "output_type": "execute_result"
    },
    {
     "data": {
      "image/png": "[encoded data removed]",
      "text/plain": [
       "<Figure size 1440x720 with 1 Axes>"
      ]
     },
     "metadata": {
      "needs_background": "light"
     },
     "output_type": "display_data"
    }
   ],
   "source": [
    "import matplotlib.pyplot as plt\n",
    "fig = plt.figure(figsize=(20,10))\n",
    "plt.plot(df['date'],df['lastTradePrice'])"
   ]
  },
  {
   "cell_type": "code",
   "execution_count": 8,
   "metadata": {},
   "outputs": [
    {
     "data": {
      "text/plain": [
       "[{'id': 80122,\n",
       "  'predictItId': 4390,\n",
       "  'lastTradePrice': 56,\n",
       "  'date': '2019-06-08T03:38:31.926Z',\n",
       "  'lastClose': None},\n",
       " {'id': 22715824,\n",
       "  'predictItId': 4390,\n",
       "  'lastTradePrice': 55,\n",
       "  'date': '2019-06-09T13:37:46.179Z',\n",
       "  'lastClose': None},\n",
       " {'id': 22740420,\n",
       "  'predictItId': 4390,\n",
       "  'lastTradePrice': 56,\n",
       "  'date': '2019-06-09T23:35:36.308Z',\n",
       "  'lastClose': None},\n",
       " {'id': 22810673,\n",
       "  'predictItId': 4390,\n",
       "  'lastTradePrice': 55,\n",
       "  'date': '2019-06-11T03:30:40.709Z',\n",
       "  'lastClose': None},\n",
       " {'id': 2592337,\n",
       "  'predictItId': 4390,\n",
       "  'lastTradePrice': 56,\n",
       "  'date': '2019-06-11T10:09:38.213Z',\n",
       "  'lastClose': None},\n",
       " {'id': 3141146,\n",
       "  'predictItId': 4390,\n",
       "  'lastTradePrice': 55,\n",
       "  'date': '2019-06-11T12:21:03.743Z',\n",
       "  'lastClose': None},\n",
       " {'id': 3436379,\n",
       "  'predictItId': 4390,\n",
       "  'lastTradePrice': 56,\n",
       "  'date': '2019-06-11T13:30:48.909Z',\n",
       "  'lastClose': None},\n",
       " {'id': 22847076,\n",
       "  'predictItId': 4390,\n",
       "  'lastTradePrice': 55,\n",
       "  'date': '2019-06-11T17:52:50.104Z',\n",
       "  'lastClose': None},\n",
       " {'id': 22852927,\n",
       "  'predictItId': 4390,\n",
       "  'lastTradePrice': 56,\n",
       "  'date': '2019-06-11T20:13:48.266Z',\n",
       "  'lastClose': None},\n",
       " {'id': 22876864,\n",
       "  'predictItId': 4390,\n",
       "  'lastTradePrice': 55,\n",
       "  'date': '2019-06-12T05:37:57.353Z',\n",
       "  'lastClose': None}]"
      ]
     },
     "execution_count": 8,
     "metadata": {},
     "output_type": "execute_result"
    }
   ],
   "source": [
    "prices[:10]"
   ]
  },
  {
   "cell_type": "code",
   "execution_count": 7,
   "metadata": {},
   "outputs": [
    {
     "data": {
      "text/plain": [
       "14218"
      ]
     },
     "execution_count": 7,
     "metadata": {},
     "output_type": "execute_result"
    }
   ],
   "source": [
    "len(prices)"
   ]
  },
  {
   "cell_type": "code",
   "execution_count": null,
   "metadata": {},
   "outputs": [],
   "source": []
  }
 ],
 "metadata": {
  "kernelspec": {
   "display_name": "Python 3",
   "language": "python",
   "name": "python3"
  },
  "language_info": {
   "codemirror_mode": {
    "name": "ipython",
    "version": 3
   },
   "file_extension": ".py",
   "mimetype": "text/x-python",
   "name": "python",
   "nbconvert_exporter": "python",
   "pygments_lexer": "ipython3",
   "version": "3.7.5"
  }
 },
 "nbformat": 4,
 "nbformat_minor": 2
}
