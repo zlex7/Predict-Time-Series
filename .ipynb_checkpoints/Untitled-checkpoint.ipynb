{
 "cells": [
  {
   "cell_type": "code",
   "execution_count": 2,
   "metadata": {},
   "outputs": [],
   "source": [
    "import requests\n",
    "contracts_url = 'https://www.politicalalertengine.com/api/contracts/all'\n",
    "\n",
    "r = requests.get(contracts_url)"
   ]
  },
  {
   "cell_type": "code",
   "execution_count": 3,
   "metadata": {},
   "outputs": [],
   "source": [
    "contracts = r.json()"
   ]
  },
  {
   "cell_type": "code",
   "execution_count": 5,
   "metadata": {},
   "outputs": [],
   "source": [
    "prices_url = 'https://www.politicalalertengine.com/api/analytics/dataByIds/%d'\n",
    "\n",
    "prices = requests.get(prices_url % 4390).json()"
   ]
  },
  {
   "cell_type": "code",
   "execution_count": 8,
   "metadata": {},
   "outputs": [
    {
     "data": {
      "text/plain": [
       "[{'id': 80122,\n",
       "  'predictItId': 4390,\n",
       "  'lastTradePrice': 56,\n",
       "  'date': '2019-06-08T03:38:31.926Z',\n",
       "  'lastClose': None},\n",
       " {'id': 22715824,\n",
       "  'predictItId': 4390,\n",
       "  'lastTradePrice': 55,\n",
       "  'date': '2019-06-09T13:37:46.179Z',\n",
       "  'lastClose': None},\n",
       " {'id': 22740420,\n",
       "  'predictItId': 4390,\n",
       "  'lastTradePrice': 56,\n",
       "  'date': '2019-06-09T23:35:36.308Z',\n",
       "  'lastClose': None},\n",
       " {'id': 22810673,\n",
       "  'predictItId': 4390,\n",
       "  'lastTradePrice': 55,\n",
       "  'date': '2019-06-11T03:30:40.709Z',\n",
       "  'lastClose': None},\n",
       " {'id': 2592337,\n",
       "  'predictItId': 4390,\n",
       "  'lastTradePrice': 56,\n",
       "  'date': '2019-06-11T10:09:38.213Z',\n",
       "  'lastClose': None},\n",
       " {'id': 3141146,\n",
       "  'predictItId': 4390,\n",
       "  'lastTradePrice': 55,\n",
       "  'date': '2019-06-11T12:21:03.743Z',\n",
       "  'lastClose': None},\n",
       " {'id': 3436379,\n",
       "  'predictItId': 4390,\n",
       "  'lastTradePrice': 56,\n",
       "  'date': '2019-06-11T13:30:48.909Z',\n",
       "  'lastClose': None},\n",
       " {'id': 22847076,\n",
       "  'predictItId': 4390,\n",
       "  'lastTradePrice': 55,\n",
       "  'date': '2019-06-11T17:52:50.104Z',\n",
       "  'lastClose': None},\n",
       " {'id': 22852927,\n",
       "  'predictItId': 4390,\n",
       "  'lastTradePrice': 56,\n",
       "  'date': '2019-06-11T20:13:48.266Z',\n",
       "  'lastClose': None},\n",
       " {'id': 22876864,\n",
       "  'predictItId': 4390,\n",
       "  'lastTradePrice': 55,\n",
       "  'date': '2019-06-12T05:37:57.353Z',\n",
       "  'lastClose': None}]"
      ]
     },
     "execution_count": 8,
     "metadata": {},
     "output_type": "execute_result"
    }
   ],
   "source": [
    "prices[:10]"
   ]
  },
  {
   "cell_type": "code",
   "execution_count": 7,
   "metadata": {},
   "outputs": [
    {
     "data": {
      "text/plain": [
       "14218"
      ]
     },
     "execution_count": 7,
     "metadata": {},
     "output_type": "execute_result"
    }
   ],
   "source": [
    "len(prices)"
   ]
  },
  {
   "cell_type": "code",
   "execution_count": null,
   "metadata": {},
   "outputs": [],
   "source": []
  }
 ],
 "metadata": {
  "kernelspec": {
   "display_name": "Python 3",
   "language": "python",
   "name": "python3"
  },
  "language_info": {
   "codemirror_mode": {
    "name": "ipython",
    "version": 3
   },
   "file_extension": ".py",
   "mimetype": "text/x-python",
   "name": "python",
   "nbconvert_exporter": "python",
   "pygments_lexer": "ipython3",
   "version": "3.7.5"
  }
 },
 "nbformat": 4,
 "nbformat_minor": 2
}
